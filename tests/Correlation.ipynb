{
 "cells": [
  {
   "cell_type": "markdown",
   "metadata": {
    "deletable": true,
    "editable": true
   },
   "source": [
    "# Calculate correlation functions with CCL\n",
    "In this example, we will calculate clustering and lensing correlation functions for an example cosmology."
   ]
  },
  {
   "cell_type": "code",
   "execution_count": 1,
   "metadata": {
    "collapsed": true,
    "deletable": true,
    "editable": true
   },
   "outputs": [],
   "source": [
    "import numpy as np\n",
    "import pylab as plt\n",
    "import pyccl as ccl"
   ]
  },
  {
   "cell_type": "code",
   "execution_count": 2,
   "metadata": {
    "collapsed": true
   },
   "outputs": [],
   "source": [
    "%matplotlib inline"
   ]
  },
  {
   "cell_type": "markdown",
   "metadata": {
    "deletable": true,
    "editable": true
   },
   "source": [
    "### Set up a Cosmology object\n",
    "`Cosmology` objects contain the parameters and metadata needed as inputs to most functions. In `pyccl`, you can create one by first creating a new `Parameters` object, which simply contains the values of cosmological parameters (including some derived parameters). In this example, we define the parameters of a vanilla LCDM model, but simple extensions (like curvature, neutrino mass, and w0/wa) are also supported.\n",
    "\n",
    "`Cosmology` objects contain precomputed data (e.g. splines) to help speed-up certain calculations. As such, `Cosmology` objects are supposed to be immutable; you should create a new `Cosmology` object when you want to change the values of any cosmological parameters."
   ]
  },
  {
   "cell_type": "code",
   "execution_count": 3,
   "metadata": {
    "collapsed": false,
    "deletable": true,
    "editable": true
   },
   "outputs": [],
   "source": [
    "p = ccl.Parameters(Omega_c=0.27, Omega_b=0.045, h=0.67, A_s=2.1e-9, n_s=0.96)\n",
    "cosmo = ccl.Cosmology(p)"
   ]
  },
  {
   "cell_type": "code",
   "execution_count": 4,
   "metadata": {
    "collapsed": false,
    "deletable": true,
    "editable": true
   },
   "outputs": [
    {
     "name": "stdout",
     "output_type": "stream",
     "text": [
      "Parameters\n",
      "----------\n",
      "        Omega_c: 0.27\n",
      "        Omega_b: 0.045\n",
      "        Omega_m: 0.315\n",
      "        Omega_n: 0.0\n",
      "        Omega_k: 0.0\n",
      "             w0: -1.0\n",
      "             wa: 0.0\n",
      "             H0: 67.0\n",
      "              h: 0.67\n",
      "            A_s: 2.1e-09\n",
      "            n_s: 0.96\n",
      "        Omega_g: 5.51161385305e-05\n",
      "          T_CMB: 2.726\n",
      "        sigma_8: nan\n",
      "        Omega_l: 0.684944883861\n",
      "         z_star: nan\n",
      "    has_mgrowth: False\n"
     ]
    }
   ],
   "source": [
    "print p"
   ]
  },
  {
   "cell_type": "markdown",
   "metadata": {
    "deletable": true,
    "editable": true
   },
   "source": [
    "As you can see, a number of cosmological parameters have been set to default values, or derived from the input parameters. Some, like `sigma_8`, have been left undefined; this is because calculating them from the input parameters is non-trivial, so this will only be done if needed (or if the user explicitly requests it)."
   ]
  },
  {
   "cell_type": "markdown",
   "metadata": {
    "deletable": true,
    "editable": true
   },
   "source": [
    "### Define a source number density\n",
    "The angular power spectrum is weighted by the source number density as a function of redshift, dN/dz. We define an example here."
   ]
  },
  {
   "cell_type": "code",
   "execution_count": 5,
   "metadata": {
    "collapsed": false,
    "deletable": true,
    "editable": true
   },
   "outputs": [
    {
     "name": "stdout",
     "output_type": "stream",
     "text": [
      "26.0\n"
     ]
    }
   ],
   "source": [
    "z = np.linspace(0., 3., 200)\n",
    "i_lim = 26. # Limiting i-band magnitude\n",
    "z0 = 0.0417*i_lim - 0.744\n",
    "\n",
    "Ngal = 46. * 100.31 * (i_lim - 25.) # Normalisation, galaxies/arcmin^2\n",
    "pz = 1./(2.*z0) * (z / z0)**2. * np.exp(-z/z0) # Redshift distribution, p(z)\n",
    "dNdz = Ngal * pz # Number density distribution"
   ]
  },
  {
   "cell_type": "code",
   "execution_count": 6,
   "metadata": {
    "collapsed": false,
    "deletable": true,
    "editable": true
   },
   "outputs": [
    {
     "data": {
      "image/png": "[encoded data removed]",
      "text/plain": [
       "<matplotlib.figure.Figure at 0x107c90bd0>"
      ]
     },
     "metadata": {},
     "output_type": "display_data"
    }
   ],
   "source": [
    "plt.plot(z, dNdz)\n",
    "plt.show()"
   ]
  },
  {
   "cell_type": "markdown",
   "metadata": {
    "deletable": true,
    "editable": true
   },
   "source": [
    "### Create ClTracer objects\n",
    "CCL manages auto- and cross-spectrum calculations through `ClTracer` objects. For the sake of this example we will define two separate tracers, but both will effectively be the same tracer (so we end up calculating the auto-spectrum)."
   ]
  },
  {
   "cell_type": "code",
   "execution_count": 7,
   "metadata": {
    "collapsed": false,
    "deletable": true,
    "editable": true
   },
   "outputs": [],
   "source": [
    "lens1 = ccl.ClTracerLensing(cosmo, False, z, dNdz)\n",
    "lens2 = ccl.ClTracerLensing(cosmo, False, z, dNdz)"
   ]
  },
  {
   "cell_type": "markdown",
   "metadata": {
    "deletable": true,
    "editable": true
   },
   "source": [
    "The argument set to `False` in these statements specifies that we are ignoring intrinsic alignments.\n",
    "If we wanted to include intrinsic alignments, we could have created the `ClTracer` object in the following way:"
   ]
  },
  {
   "cell_type": "code",
   "execution_count": 18,
   "metadata": {
    "collapsed": false
   },
   "outputs": [],
   "source": [
    "bias_ia = -0.01* np.ones(z.size) # Intrinsic alignment bias factor\n",
    "f_red = 0.2 * np.ones(z.size) # Fraction of red galaxies\n",
    "lens1_ia = ccl.ClTracerLensing(cosmo, True, z, dNdz, z, bias_ia, z, f_red)"
   ]
  },
  {
   "cell_type": "markdown",
   "metadata": {
    "deletable": true,
    "editable": true
   },
   "source": [
    "### Calculate the correlation functions\n",
    "We can now calculate the correlation functions for the tracer(s). This will take some time. We are working on speed-ups for this computation. You can find more information in the CCL note. Notice that the last argument of the correlation function is the order of the bessel function in the integrand."
   ]
  },
  {
   "cell_type": "code",
   "execution_count": 19,
   "metadata": {
    "collapsed": false,
    "deletable": true,
    "editable": true
   },
   "outputs": [],
   "source": [
    "theta_rad = np.logspace(-1, 2, 10)*np.pi/180. #note the input is in radians\n",
    "lenscorrel_plus=ccl.correlation(theta_rad,cosmo,lens1,lens1,0)\n",
    "lenscorrel_plus_ia=ccl.correlation(theta_rad,cosmo,lens1_ia,lens1_ia,0)\n",
    "lenscorrel_minus=ccl.correlation(theta_rad,cosmo,lens1,lens1,4)"
   ]
  },
  {
   "cell_type": "markdown",
   "metadata": {},
   "source": [
    "We can then plot the correlations:"
   ]
  },
  {
   "cell_type": "code",
   "execution_count": 21,
   "metadata": {
    "collapsed": false,
    "deletable": true,
    "editable": true
   },
   "outputs": [
    {
     "data": {
      "image/png": "[encoded data removed]",
      "text/plain": [
       "<matplotlib.figure.Figure at 0x10ff8b2d0>"
      ]
     },
     "metadata": {},
     "output_type": "display_data"
    }
   ],
   "source": [
    "plt.plot(theta_rad*180/np.pi, lenscorrel_plus,label='Lensing +, no IA')\n",
    "plt.plot(theta_rad*180/np.pi, lenscorrel_minus,label='Lensing -, no IA')\n",
    "plt.plot(theta_rad*180/np.pi, lenscorrel_plus_ia,label='Lensing +, w/IA')\n",
    "plt.gca().set_xscale('log')\n",
    "plt.legend(loc='upper right',prop={'size':14})\n",
    "plt.xlabel(r'$\\theta$ (deg)',fontsize=22)\n",
    "plt.ylabel(r'$\\xi (r)$',fontsize=22)\n",
    "plt.show()"
   ]
  },
  {
   "cell_type": "code",
   "execution_count": 24,
   "metadata": {
    "collapsed": false
   },
   "outputs": [
    {
     "name": "stdout",
     "output_type": "stream",
     "text": [
      "[  5.25945884e-05   2.43918039e-05   1.32583061e-05   5.29524180e-06\n",
      "   1.58869195e-06   2.85477287e-07  -1.41426625e-08              nan\n",
      "              nan              nan]\n"
     ]
    }
   ],
   "source": [
    "print lenscorrel_plus\n"
   ]
  },
  {
   "cell_type": "code",
   "execution_count": 25,
   "metadata": {
    "collapsed": false
   },
   "outputs": [
    {
     "name": "stdout",
     "output_type": "stream",
     "text": [
      "[  0.   0.   0.   0.   0.   0.   0.  nan  nan  nan]\n"
     ]
    }
   ],
   "source": [
    "print lenscorrel_minus"
   ]
  },
  {
   "cell_type": "code",
   "execution_count": null,
   "metadata": {
    "collapsed": true
   },
   "outputs": [],
   "source": []
  }
 ],
 "metadata": {
  "kernelspec": {
   "display_name": "Python 2",
   "language": "python",
   "name": "python2"
  },
  "language_info": {
   "codemirror_mode": {
    "name": "ipython",
    "version": 2
   },
   "file_extension": ".py",
   "mimetype": "text/x-python",
   "name": "python",
   "nbconvert_exporter": "python",
   "pygments_lexer": "ipython2",
   "version": "2.7.12"
  }
 },
 "nbformat": 4,
 "nbformat_minor": 2
}
