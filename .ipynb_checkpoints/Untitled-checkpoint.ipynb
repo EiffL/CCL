{
 "cells": [
  {
   "cell_type": "code",
   "execution_count": 1,
   "metadata": {
    "collapsed": true
   },
   "outputs": [],
   "source": [
    "from pylab import *"
   ]
  },
  {
   "cell_type": "code",
   "execution_count": 2,
   "metadata": {
    "collapsed": true
   },
   "outputs": [],
   "source": [
    "%matplotlib inline\n"
   ]
  },
  {
   "cell_type": "code",
   "execution_count": 15,
   "metadata": {
    "collapsed": true
   },
   "outputs": [],
   "source": [
    "fftlog_dat=np.genfromtxt('./cc_test_corr_out_fftlog.dat',names=('theta','gg11','gg12','gg22','lp11','lp12','lp22'\n",
    "                                                                ,'lm11','lm12','lm22'))"
   ]
  },
  {
   "cell_type": "code",
   "execution_count": 16,
   "metadata": {
    "collapsed": true
   },
   "outputs": [],
   "source": [
    "out_dat=np.genfromtxt('./cc_test_corr_out.dat',names=('theta','gg11_f','gg11','gg12_f','gg12','gg22_f','gg22'\n",
    "                                                      ,'lp11_f','lp11','lp12_f','lp12','lp22_f','lp22'\n",
    "                                                                ,'lm11','lm12','lm22'))"
   ]
  },
  {
   "cell_type": "code",
   "execution_count": 17,
   "metadata": {
    "collapsed": false
   },
   "outputs": [
    {
     "data": {
      "text/plain": [
       "array([  6.74203527e-03,   4.46804534e-03,   2.57798513e-03,\n",
       "         1.22144562e-03,   4.29653632e-04,   8.21302065e-05,\n",
       "        -1.55640091e-05,  -2.13092459e-05,  -1.05687973e-05,\n",
       "        -2.81692895e-06])"
      ]
     },
     "execution_count": 17,
     "metadata": {},
     "output_type": "execute_result"
    }
   ],
   "source": [
    "out_dat[:,1]"
   ]
  },
  {
   "cell_type": "code",
   "execution_count": 19,
   "metadata": {
    "collapsed": false
   },
   "outputs": [
    {
     "data": {
      "image/png": "[encoded data removed]",
      "text/plain": [
       "<matplotlib.figure.Figure at 0x109c42d50>"
      ]
     },
     "metadata": {},
     "output_type": "display_data"
    }
   ],
   "source": [
    "plot(fftlog_dat['theta'],fftlog_dat['theta']*fftlog_dat['gg11'])\n",
    "plot(out_dat[:,0],out_dat[:,0]*out_dat[:,2])\n",
    "xscale('log')\n",
    "xlim(0.1,10)\n",
    "#ylim(0,5.e-4)\n",
    "show()"
   ]
  },
  {
   "cell_type": "code",
   "execution_count": null,
   "metadata": {
    "collapsed": true
   },
   "outputs": [],
   "source": []
  }
 ],
 "metadata": {
  "kernelspec": {
   "display_name": "Python 2",
   "language": "python",
   "name": "python2"
  },
  "language_info": {
   "codemirror_mode": {
    "name": "ipython",
    "version": 2
   },
   "file_extension": ".py",
   "mimetype": "text/x-python",
   "name": "python",
   "nbconvert_exporter": "python",
   "pygments_lexer": "ipython2",
   "version": "2.7.11"
  }
 },
 "nbformat": 4,
 "nbformat_minor": 0
}
